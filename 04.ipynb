{
 "cells": [
  {
   "cell_type": "markdown",
   "metadata": {},
   "source": [
    "## 🧠 EEG-Based Game Rating Classification\n",
    "\n",
    "This notebook focuses on predicting age-based game ratings using features derived from EEG signals. Two rating systems are targeted:\n",
    "\n",
    "- **PEGI** (Pan-European Game Information): Numeric label (3, 7, 12, 16, 18)\n",
    "- **ESRB** (Entertainment Software Rating Board): Categorical label (e.g., E, T, M)\n",
    "\n",
    "The task involves handling missing data, selecting the most relevant EEG features, and building classification models for both targets.\n"
   ]
  },
  {
   "cell_type": "code",
   "execution_count": null,
   "metadata": {},
   "outputs": [],
   "source": [
    "# === Import Libraries ===\n",
    "import pandas as pd\n",
    "import numpy as np\n",
    "import matplotlib.pyplot as plt\n",
    "from sklearn.impute import KNNImputer\n",
    "from sklearn.ensemble import GradientBoostingClassifier\n",
    "from sklearn.feature_selection import SelectFromModel\n",
    "from sklearn.preprocessing import LabelEncoder\n",
    "from sklearn.model_selection import train_test_split\n",
    "from sklearn.metrics import accuracy_score"
   ]
  },
  {
   "cell_type": "markdown",
   "metadata": {},
   "source": [
    "## 🔍 Data Exploration\n",
    "\n",
    "The dataset contains 2268 EEG features extracted from gameplay. Several features contain missing values. We inspect the structure and statistics of both the EEG features and the target variables.\n"
   ]
  },
  {
   "cell_type": "code",
   "execution_count": null,
   "metadata": {},
   "outputs": [],
   "source": [
    "# === Load Dataset ===\n",
    "print(\"Loading EEG dataset...\")\n",
    "df = pd.read_excel(\"04-EEG-Based Game Rating Classification (PEGI & ESRB).xlsx\")\n",
    "print(f\"Initial shape: {df.shape}\")\n",
    "\n",
    "# === Check for missing values ===\n",
    "missing_info = df.isnull().sum()\n",
    "missing_cols = missing_info[missing_info > 0]\n",
    "print(\"\\nColumns with missing values:\\n\", missing_cols)\n",
    "\n",
    "# === Separate Features & Targets ===\n",
    "X = df.drop(columns=[\"PEGI\", \"ESRB\"])\n",
    "y_pegi = df[\"PEGI\"]\n",
    "y_esrb = df[\"ESRB\"]"
   ]
  },
  {
   "cell_type": "markdown",
   "metadata": {},
   "source": [
    "## 🧼 Preprocessing and Missing Value Handling\n",
    "\n",
    "Since dropping rows/columns is restricted, we use **KNN imputation** to estimate missing values based on feature similarity. This preserves data integrity and avoids information loss.\n"
   ]
  },
  {
   "cell_type": "code",
   "execution_count": null,
   "metadata": {},
   "outputs": [],
   "source": [
    "# === Impute Missing Values ===\n",
    "print(\"\\nImputing missing values using KNNImputer (k=5)...\")\n",
    "imputer = KNNImputer(n_neighbors=5)\n",
    "X_imputed = pd.DataFrame(imputer.fit_transform(X), columns=X.columns)"
   ]
  },
  {
   "cell_type": "markdown",
   "metadata": {},
   "source": [
    "## ✂️ Feature Selection\n",
    "\n",
    "To reduce complexity, we use a Gradient Boosting model to rank feature importances. Only the most relevant features (above median importance) are retained for training.\n"
   ]
  },
  {
   "cell_type": "code",
   "execution_count": null,
   "metadata": {},
   "outputs": [],
   "source": [
    "# === Feature Selection via GradientBoostingClassifier ===\n",
    "print(\"Performing feature selection based on importance...\")\n",
    "selector_model = GradientBoostingClassifier(random_state=13)\n",
    "selector_model.fit(X_imputed, y_pegi)\n",
    "feature_selector = SelectFromModel(selector_model, prefit=True, threshold=\"median\")\n",
    "X_selected = feature_selector.transform(X_imputed)\n",
    "print(f\"Selected features shape: {X_selected.shape}\")"
   ]
  },
  {
   "cell_type": "markdown",
   "metadata": {},
   "source": [
    "## 🧪 Model Training and Evaluation\n",
    "\n",
    "We use **Gradient Boosting Classifier** for both PEGI and ESRB prediction. Accuracy is used as the primary evaluation metric, with 70/30 train-test splits and stratified sampling to preserve class balance.\n"
   ]
  },
  {
   "cell_type": "code",
   "execution_count": null,
   "metadata": {},
   "outputs": [],
   "source": [
    "# === Encode ESRB target (PEGI is already numeric) ===\n",
    "encoder_esrb = LabelEncoder()\n",
    "y_esrb_encoded = encoder_esrb.fit_transform(y_esrb)\n",
    "\n",
    "# === Train-test splits ===\n",
    "X_train_p, X_test_p, y_train_p, y_test_p = train_test_split(\n",
    "    X_selected, y_pegi, test_size=0.3, random_state=13, stratify=y_pegi)\n",
    "\n",
    "X_train_e, X_test_e, y_train_e, y_test_e = train_test_split(\n",
    "    X_selected, y_esrb_encoded, test_size=0.3, random_state=13, stratify=y_esrb_encoded)\n",
    "\n",
    "# === Train and evaluate function ===\n",
    "def evaluate_model(X_train, X_test, y_train, y_test, target_name):\n",
    "    print(f\"\\nTraining GradientBoostingClassifier for {target_name}...\")\n",
    "    model = GradientBoostingClassifier(random_state=13)\n",
    "    model.fit(X_train, y_train)\n",
    "    y_pred = model.predict(X_test)\n",
    "    acc = accuracy_score(y_test, y_pred)\n",
    "    print(f\"{target_name} Accuracy: {acc:.4f}\")\n",
    "    return acc\n",
    "\n",
    "# === Run both tasks ===\n",
    "acc_pegi = evaluate_model(X_train_p, X_test_p, y_train_p, y_test_p, \"PEGI\")\n",
    "acc_esrb = evaluate_model(X_train_e, X_test_e, y_train_e, y_test_e, \"ESRB\")"
   ]
  },
  {
   "cell_type": "markdown",
   "metadata": {},
   "source": [
    "## 🧮 Final Scoring\n",
    "\n",
    "As required, we multiply the individual classification accuracies to obtain a final score:\n",
    "\n",
    "**Final Score = Accuracy(PEGI) × Accuracy(ESRB)**\n"
   ]
  },
  {
   "cell_type": "code",
   "execution_count": null,
   "metadata": {},
   "outputs": [],
   "source": [
    "final_score = acc_pegi * acc_esrb\n",
    "print(f\"\\n🎯 Final Score (PEGI × ESRB): {final_score:.4f}\")"
   ]
  },
  {
   "cell_type": "markdown",
   "metadata": {},
   "source": [
    "## 📈 Accuracy Visualization\n",
    "\n",
    "The chart below summarizes the classification accuracy of both targets using a single machine learning model.\n"
   ]
  },
  {
   "cell_type": "code",
   "execution_count": null,
   "metadata": {},
   "outputs": [
    {
     "name": "stdout",
     "output_type": "stream",
     "text": [
      "Loading EEG dataset...\n",
      "Initial shape: (900, 2270)\n",
      "\n",
      "Columns with missing values:\n",
      " MAX_200_POW.O2.Theta    18\n",
      "MIN_200_POW.O2.Theta    41\n",
      "MA_200_POW.O2.Theta     12\n",
      "dtype: int64\n",
      "\n",
      "Imputing missing values using KNNImputer (k=5)...\n",
      "Performing feature selection based on importance...\n"
     ]
    }
   ],
   "source": [
    "# === Visualize Results ===\n",
    "fig, ax = plt.subplots(figsize=(6, 4))\n",
    "bars = ax.bar([\"PEGI\", \"ESRB\"], [acc_pegi, acc_esrb], color=[\"royalblue\", \"coral\"])\n",
    "ax.set_ylim(0, 1)\n",
    "ax.set_ylabel(\"Accuracy\")\n",
    "ax.set_title(\"📊 Classification Accuracy for PEGI and ESRB\")\n",
    "for bar in bars:\n",
    "    ax.text(bar.get_x() + bar.get_width()/2, bar.get_height() + 0.02,\n",
    "            f\"{bar.get_height():.2f}\", ha='center')\n",
    "plt.grid(True, linestyle='--', alpha=0.5, axis='y')\n",
    "plt.tight_layout()\n",
    "plt.show()"
   ]
  },
  {
   "cell_type": "code",
   "execution_count": null,
   "metadata": {},
   "outputs": [],
   "source": [
    "\n"
   ]
  },
  {
   "cell_type": "code",
   "execution_count": null,
   "metadata": {},
   "outputs": [],
   "source": []
  }
 ],
 "metadata": {
  "kernelspec": {
   "display_name": "Python 3",
   "language": "python",
   "name": "python3"
  },
  "language_info": {
   "codemirror_mode": {
    "name": "ipython",
    "version": 3
   },
   "file_extension": ".py",
   "mimetype": "text/x-python",
   "name": "python",
   "nbconvert_exporter": "python",
   "pygments_lexer": "ipython3",
   "version": "3.13.0"
  }
 },
 "nbformat": 4,
 "nbformat_minor": 2
}
