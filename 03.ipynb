{
 "cells": [
  {
   "cell_type": "markdown",
   "metadata": {},
   "source": [
    "## 🧶 Touch and User Classification Using Smart Fabric\n",
    "\n",
    "In this task, we classify both the user and the type of touch interaction based on 3,200 sensor readings from a smart textile. The dataset includes labeled user identities and interaction types. Our goal is to evaluate model performance on each classification task and compute a composite score.\n"
   ]
  },
  {
   "cell_type": "code",
   "execution_count": 1,
   "metadata": {},
   "outputs": [],
   "source": [
    "import pandas as pd\n",
    "import numpy as np\n",
    "import matplotlib.pyplot as plt\n",
    "from sklearn.feature_selection import VarianceThreshold, SelectFromModel\n",
    "from sklearn.ensemble import RandomForestClassifier, GradientBoostingClassifier\n",
    "from sklearn.model_selection import train_test_split\n",
    "from sklearn.metrics import accuracy_score"
   ]
  },
  {
   "cell_type": "markdown",
   "metadata": {},
   "source": [
    "## 🔍 Data Exploration & Preprocessing\n",
    "\n",
    "We first remove low-variance features, which are unlikely to contribute meaningfully to classification. Then we use `RandomForestClassifier` for embedded feature selection, retaining only the most informative features.\n"
   ]
  },
  {
   "cell_type": "code",
   "execution_count": 2,
   "metadata": {},
   "outputs": [
    {
     "name": "stdout",
     "output_type": "stream",
     "text": [
      "Reading dataset...\n",
      "Shape of data: (2056, 3206)\n"
     ]
    }
   ],
   "source": [
    "# === Load Dataset ===\n",
    "print(\"Reading dataset...\")\n",
    "data = pd.read_excel(\"03-Touch and User Classification from Smart Fabric.xlsx\")\n",
    "print(f\"Shape of data: {data.shape}\")"
   ]
  },
  {
   "cell_type": "code",
   "execution_count": 3,
   "metadata": {},
   "outputs": [
    {
     "name": "stdout",
     "output_type": "stream",
     "text": [
      "Applying variance threshold...\n",
      "Features after variance filtering: 3200\n",
      "Selecting features using RandomForestClassifier...\n",
      "Selected features (median threshold): 1600\n"
     ]
    }
   ],
   "source": [
    "# === Features and Targets ===\n",
    "feature_indices = list(range(1, 3201))\n",
    "X = data[feature_indices]\n",
    "target_user = data['user_id']\n",
    "target_touch = data['touch_type']\n",
    "\n",
    "# === Variance Threshold ===\n",
    "print(\"Applying variance threshold...\")\n",
    "selector = VarianceThreshold(threshold=0.01)\n",
    "X_filtered = selector.fit_transform(X)\n",
    "print(f\"Features after variance filtering: {X_filtered.shape[1]}\")\n",
    "\n",
    "# === Feature Selection via RandomForest ===\n",
    "print(\"Selecting features using RandomForestClassifier...\")\n",
    "forest_selector = RandomForestClassifier(random_state=13)\n",
    "forest_selector.fit(X_filtered, target_user)\n",
    "\n",
    "model_selector = SelectFromModel(forest_selector, threshold=\"median\", prefit=True)\n",
    "X_selected = model_selector.transform(X_filtered)\n",
    "print(f\"Selected features (median threshold): {X_selected.shape[1]}\")"
   ]
  },
  {
   "cell_type": "markdown",
   "metadata": {},
   "source": [
    "## 🤖 Model Training and Evaluation\n",
    "\n",
    "We train two separate classifiers:\n",
    "- One to predict the `user_id`\n",
    "- Another to predict the `touch_type`\n",
    "\n",
    "We use **Gradient Boosting Classifier** for both tasks, due to its effectiveness on high-dimensional data. Model performance is measured using accuracy.\n"
   ]
  },
  {
   "cell_type": "code",
   "execution_count": null,
   "metadata": {},
   "outputs": [
    {
     "name": "stdout",
     "output_type": "stream",
     "text": [
      "\n",
      "Training classifier for: User ID\n"
     ]
    }
   ],
   "source": [
    "# === Helper function for training and evaluation ===\n",
    "def train_and_evaluate(X, y, label):\n",
    "    print(f\"\\nTraining classifier for: {label}\")\n",
    "    X_train, X_test, y_train, y_test = train_test_split(\n",
    "        X, y, test_size=0.3, random_state=13, stratify=y\n",
    "    )\n",
    "    clf = GradientBoostingClassifier(n_estimators=50, random_state=13)\n",
    "    clf.fit(X_train, y_train)\n",
    "    y_pred = clf.predict(X_test)\n",
    "    acc = accuracy_score(y_test, y_pred)\n",
    "    print(f\"{label} Accuracy: {acc:.4f}\")\n",
    "    return acc\n",
    "\n",
    "\n",
    "# === Run both classifiers ===\n",
    "acc_user = train_and_evaluate(X_selected, target_user, \"User ID\")\n",
    "acc_touch = train_and_evaluate(X_selected, target_touch, \"Touch Type\")"
   ]
  },
  {
   "cell_type": "markdown",
   "metadata": {},
   "source": [
    "## 🧮 Final Score\n",
    "\n",
    "The final project score is calculated as the multiplication of both model accuracies:\n",
    "\n",
    "`Final Score = Accuracy(user_id) × Accuracy(touch_type)`\n"
   ]
  },
  {
   "cell_type": "code",
   "execution_count": null,
   "metadata": {},
   "outputs": [],
   "source": [
    "final_score = acc_user * acc_touch\n",
    "print(f\"\\n🧠 Final Composite Score (User * Touch): {final_score:.4f}\")"
   ]
  },
  {
   "cell_type": "markdown",
   "metadata": {},
   "source": [
    "## 📊 Accuracy Visualization\n",
    "\n",
    "The following bar chart summarizes the classification accuracy of both models for better interpretability.\n"
   ]
  },
  {
   "cell_type": "code",
   "execution_count": null,
   "metadata": {},
   "outputs": [
    {
     "name": "stdout",
     "output_type": "stream",
     "text": [
      "Reading dataset...\n",
      "Shape of data: (2056, 3206)\n",
      "Applying variance threshold...\n",
      "Features after variance filtering: 3200\n",
      "Selecting features using RandomForestClassifier...\n",
      "Selected features (median threshold): 1600\n",
      "\n",
      "Training classifier for: User ID\n"
     ]
    }
   ],
   "source": [
    "# === Plot Accuracy ===\n",
    "labels = ['User ID', 'Touch Type']\n",
    "accuracies = [acc_user, acc_touch]\n",
    "\n",
    "plt.figure(figsize=(7, 5))\n",
    "bars = plt.bar(labels, accuracies, color=['steelblue', 'tomato'])\n",
    "plt.ylim(0, 1)\n",
    "plt.ylabel(\"Accuracy\")\n",
    "plt.title(\"📈 Smart Fabric Classification Accuracy\")\n",
    "for bar in bars:\n",
    "    yval = bar.get_height()\n",
    "    plt.text(bar.get_x() + bar.get_width()/2, yval + 0.02, f\"{yval:.2f}\", ha='center')\n",
    "plt.grid(True, axis='y', linestyle='--', alpha=0.6)\n",
    "plt.tight_layout()\n",
    "plt.show()"
   ]
  },
  {
   "cell_type": "code",
   "execution_count": null,
   "metadata": {},
   "outputs": [],
   "source": [
    "\n"
   ]
  }
 ],
 "metadata": {
  "kernelspec": {
   "display_name": "Python 3",
   "language": "python",
   "name": "python3"
  },
  "language_info": {
   "codemirror_mode": {
    "name": "ipython",
    "version": 3
   },
   "file_extension": ".py",
   "mimetype": "text/x-python",
   "name": "python",
   "nbconvert_exporter": "python",
   "pygments_lexer": "ipython3",
   "version": "3.13.0"
  }
 },
 "nbformat": 4,
 "nbformat_minor": 2
}
